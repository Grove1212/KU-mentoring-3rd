import sys
input = sys.stdin.readline

max = 1000001
arr = [True] * max
for i in range(2, int(max ** 0.5) + 1): # 1000000의 제곱근
    if arr[i]:
        for j in range(i+i, max, i):
            arr[j] = False

for i in range(max):
    n = int(input())
    if n == 0:
        break
    for i in range(3,n//2+1, 2):
        if arr[i] and arr[n-i]:
            print(n, "=", i, "+", n-i)
            break
    else:
        print("Goldbach's conjecture is wrong.")
